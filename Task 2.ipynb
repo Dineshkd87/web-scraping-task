{
 "cells": [
  {
   "cell_type": "code",
   "execution_count": 1,
   "id": "fbed8074-4b02-4fab-b32e-ce9553f5910e",
   "metadata": {},
   "outputs": [],
   "source": [
    "import os\n",
    "import requests\n",
    "import re\n",
    "from bs4 import BeautifulSoup\n",
    "import sys\n"
   ]
  },
  {
   "cell_type": "code",
   "execution_count": 2,
   "id": "b59da7b6-1b8d-4889-84f1-0d3cac6e30a7",
   "metadata": {},
   "outputs": [],
   "source": [
    "# function to get the html source text of the medium article\n",
    "def get_page():\n",
    "    global url\n",
    "\n",
    "    # Ask the user to input \"Enter url of a medium article: \" and collect it in url\n",
    "    url = input(\"Enter the medium article url\")\n",
    "\n",
    "    # handling possible error\n",
    "    if not re.match(r'https?://medium.com/', url):\n",
    "        print('Please enter a valid website, or make sure it is a medium article')\n",
    "        sys.exit(1)\n",
    "\n",
    "    # Add a User-Agent header to simulate a browser request\n",
    "    headers = {\n",
    "        'User-Agent': 'Mozilla/5.0 (Windows NT 10.0; Win64; x64) AppleWebKit/537.36 (KHTML, like Gecko) Chrome/58.0.3029.110 Safari/537.36'\n",
    "    }\n",
    "\n",
    "    # Call get method in requests object, pass url and headers, and collect it in res\n",
    "    res = requests.get(url, headers=headers)\n",
    "\n",
    "    # Ensure the request succeeded\n",
    "    res.raise_for_status()\n",
    "\n",
    "    # Parse the HTML content\n",
    "    soup = BeautifulSoup(res.text, 'html.parser')\n",
    "    return soup\n"
   ]
  },
  {
   "cell_type": "code",
   "execution_count": 3,
   "id": "45a97ee5-db78-41e5-9fa1-858dbe8be246",
   "metadata": {},
   "outputs": [],
   "source": [
    "# function to remove all the html tags and replace some with specific strings\n",
    "def clean(text):\n",
    "    rep = {\"<br>\": \"\\n\", \"<br/>\": \"\\n\", \"<li>\":  \"\\n\"}\n",
    "    rep = dict((re.escape(k), v) for k, v in rep.items())\n",
    "    pattern = re.compile(\"|\".join(rep.keys()))\n",
    "    text = pattern.sub(lambda m: rep[re.escape(m.group(0))], text)\n",
    "    text = re.sub('\\<(.*?)\\>', '', text)\n",
    "    return text\n"
   ]
  },
  {
   "cell_type": "code",
   "execution_count": 4,
   "id": "eb3ab16b-190b-45e7-b747-dd13f0bb6e67",
   "metadata": {},
   "outputs": [],
   "source": [
    "def collect_text(soup):\n",
    "    text = f'url: {url}\\n\\n'\n",
    "    para_text = soup.find_all('p')\n",
    "    print(f\"paragraphs text = \\n {para_text}\")\n",
    "    for para in para_text:\n",
    "        text += f\"{para.text}\\n\\n\"\n",
    "    return text\n"
   ]
  },
  {
   "cell_type": "code",
   "execution_count": 5,
   "id": "c9fd73eb-91e5-4169-aaca-e489674de459",
   "metadata": {},
   "outputs": [],
   "source": [
    "# function to save file in the current directory\n",
    "def save_file(text):\n",
    "    if not os.path.exists('./scraped_articles'):\n",
    "        os.mkdir('./scraped_articles')\n",
    "    name = url.split(\"/\")[-1]\n",
    "    print(name)\n",
    "    fname = f'scraped_articles/{name}.txt'\n",
    "\n",
    "    # Write a file using with (2 lines)\n",
    "    with open(fname, 'w', encoding='utf-8') as f:\n",
    "        f.write(text)\n",
    "\n",
    "    print(f'File saved in directory {fname}')\n"
   ]
  },
  {
   "cell_type": "code",
   "execution_count": null,
   "id": "7d5beb10-e4f5-4164-8c51-8b7cc290aea9",
   "metadata": {},
   "outputs": [],
   "source": [
    "if __name__ == '__main__':\n",
    "    text = collect_text(get_page())\n",
    "    save_file(text)\n"
   ]
  }
 ],
 "metadata": {
  "kernelspec": {
   "display_name": "Python 3 (ipykernel)",
   "language": "python",
   "name": "python3"
  },
  "language_info": {
   "codemirror_mode": {
    "name": "ipython",
    "version": 3
   },
   "file_extension": ".py",
   "mimetype": "text/x-python",
   "name": "python",
   "nbconvert_exporter": "python",
   "pygments_lexer": "ipython3",
   "version": "3.11.7"
  }
 },
 "nbformat": 4,
 "nbformat_minor": 5
}
